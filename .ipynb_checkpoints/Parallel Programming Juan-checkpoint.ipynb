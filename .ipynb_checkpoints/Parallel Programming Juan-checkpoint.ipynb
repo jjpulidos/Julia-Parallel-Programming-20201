{
 "cells": [
  {
   "cell_type": "markdown",
   "metadata": {
    "slideshow": {
     "slide_type": "slide"
    }
   },
   "source": [
    "# Parallel Programming using Julia 🤖"
   ]
  },
  {
   "cell_type": "markdown",
   "metadata": {
    "slideshow": {
     "slide_type": "slide"
    }
   },
   "source": [
    "## Coroutines (Tasks) 🥇\n",
    "\n",
    "Julia's parallel programming platform uses Tasks to switch among multiple computations.\n",
    "\n",
    "**Tasks 💡** are a control flow feature that allows computations to be suspended and resumed in a flexible manner. This feature is sometimes called by other names, such as symmetric coroutines, lightweight threads, cooperative multitasking, or one-shot continuations."
   ]
  },
  {
   "cell_type": "markdown",
   "metadata": {
    "slideshow": {
     "slide_type": "subslide"
    }
   },
   "source": [
    "For our First Coroutine we are going to use a function to calculate the first 🇳 Values of **Fibonacci Series** 🐇, using an iterative approach (can be made using recursion too)."
   ]
  },
  {
   "cell_type": "markdown",
   "metadata": {
    "slideshow": {
     "slide_type": "subslide"
    }
   },
   "source": [
    "We will introduce a **special notation** to better understanding of what julia code is doing\n",
    "\n",
    "**Emoji Standard Process Notation (ESPN):**\n",
    "\n",
    "🅰️ = 0️\n",
    "\n",
    "🅱️ = 1️\n",
    "\n",
    "🔁 0 ... 🇳-3:\n",
    "\n",
    "    🅰️, 🅱️ = 🅱️,🅰️➕🅱️"
   ]
  },
  {
   "cell_type": "code",
   "execution_count": 1,
   "metadata": {
    "slideshow": {
     "slide_type": "subslide"
    }
   },
   "outputs": [
    {
     "data": {
      "text/plain": [
       "fib_w_parameters (generic function with 1 method)"
      ]
     },
     "execution_count": 1,
     "metadata": {},
     "output_type": "execute_result"
    }
   ],
   "source": [
    "function fib_w_parameters(n)\n",
    "    # N *(🐇)\n",
    "    println(\"Empezando el Calculo de Fibonacci\")\n",
    "    a = 0\n",
    "    b = 1\n",
    "    println(\"Numero \", 1,  \" de la serie de fibonacci: \",a)\n",
    "    println(\"Numero \", 2,  \" de la serie de fibonacci: \",b)\n",
    "    for t=0:n-3\n",
    "        a, b = b, a+b\n",
    "        println(\"Numero \", t+3,  \" de la serie de fibonacci: \",b)\n",
    "    end\n",
    "    println(\"Llegamos al ultimo calculo de Fibonacci\")\n",
    "\n",
    "end"
   ]
  },
  {
   "cell_type": "markdown",
   "metadata": {
    "slideshow": {
     "slide_type": "subslide"
    }
   },
   "source": [
    "### @task Macro\n",
    "```julia\n",
    "@task\n",
    "```\n",
    "This macro is commonly used to define a task using a function, in our example **fib_w_parameters**, and **schedule()** function execute the task passed by argument"
   ]
  },
  {
   "cell_type": "markdown",
   "metadata": {
    "slideshow": {
     "slide_type": "subslide"
    }
   },
   "source": [
    "We can execute a Task Using the next lines of code:"
   ]
  },
  {
   "cell_type": "code",
   "execution_count": 2,
   "metadata": {
    "slideshow": {
     "slide_type": "subslide"
    }
   },
   "outputs": [
    {
     "name": "stdout",
     "output_type": "stream",
     "text": [
      "Empezando el Calculo de Fibonacci\n"
     ]
    },
    {
     "data": {
      "text/plain": [
       "Task (runnable) @0x00007feea9825120"
      ]
     },
     "execution_count": 2,
     "metadata": {},
     "output_type": "execute_result"
    },
    {
     "name": "stdout",
     "output_type": "stream",
     "text": [
      "Numero 1 de la serie de fibonacci: 0\n",
      "Numero "
     ]
    }
   ],
   "source": [
    "a = @task fib_w_parameters(7)\n",
    "schedule(a)"
   ]
  },
  {
   "cell_type": "markdown",
   "metadata": {
    "slideshow": {
     "slide_type": "subslide"
    }
   },
   "source": [
    "or, equivalently we can use Task (**Our Function as an anonymous Function**)"
   ]
  },
  {
   "cell_type": "code",
   "execution_count": 3,
   "metadata": {
    "slideshow": {
     "slide_type": "subslide"
    }
   },
   "outputs": [
    {
     "name": "stdout",
     "output_type": "stream",
     "text": [
      "2 de la serie de fibonacci: 1\n",
      "Numero 3"
     ]
    },
    {
     "data": {
      "text/plain": [
       "Task (runnable) @0x00007feea8fe6710"
      ]
     },
     "execution_count": 3,
     "metadata": {},
     "output_type": "execute_result"
    },
    {
     "name": "stdout",
     "output_type": "stream",
     "text": [
      " de la serie de fibonacci: 1\n",
      "Numero 4 de la serie de fibonacci: "
     ]
    }
   ],
   "source": [
    "a = Task(() -> fib_w_parameters(7)); schedule(a)"
   ]
  },
  {
   "cell_type": "markdown",
   "metadata": {
    "slideshow": {
     "slide_type": "fragment"
    }
   },
   "source": [
    "For refreshing our memory **Fibonacci Series** is defined recursively like this:\n",
    "\n",
    "$$x_1=1,\n",
    "\\quad x_2=1,\\quad x_n=x_{n-1}+x_{n-2}\n",
    "\\;\\;(n>2)$$ \n",
    "\n",
    "# 😎\n",
    "**Activity 1:**\n",
    " \n",
    "Reader try to code the same **coroutine** in julia Programming Language but using Recursive formula (Don't Forget that Julia has Functional Paradigm too)"
   ]
  },
  {
   "cell_type": "markdown",
   "metadata": {
    "slideshow": {
     "slide_type": "slide"
    }
   },
   "source": [
    "## Channels 🕳️\n",
    "\n",
    "To express an order of execution between lightweight threads communication primitives are necessary. \n",
    "\n",
    "Julia offers **Channel** that creates a new task from **func**, binds it to a new channel of type **ctype** and size **csize** and schedule the task. **Channels** can serve as a way to communicate between tasks, as Channel creates a buffered channel of **type T   and size  sz** . Whenever code performs a communication operation like fetch or wait, the current task is suspended and a scheduler picks another task to run. A task is restarted when the event it is waiting for completes.\n"
   ]
  },
  {
   "cell_type": "markdown",
   "metadata": {
    "slideshow": {
     "slide_type": "subslide"
    }
   },
   "source": [
    "For many problems, it is not necessary to think about tasks directly. However, they can be used to wait for multiple events at the same time, which provides for dynamic scheduling.\n",
    "\n",
    "In **dynamic scheduling** ⏲️, a program decides what to compute or where to compute it based on when other jobs finish. This is needed for unpredictable or unbalanced workloads, where we want to assign more work to processes only when they finish their current tasks.\n",
    "\n"
   ]
  },
  {
   "cell_type": "markdown",
   "metadata": {
    "slideshow": {
     "slide_type": "subslide"
    }
   },
   "source": [
    "**Relevant Functions**:\n",
    "\n",
    "```julia\n",
    "put!()\n",
    "take!()\n",
    "```\n",
    "This functions put and take 🚮 values from a channel"
   ]
  },
  {
   "cell_type": "code",
   "execution_count": 4,
   "metadata": {
    "slideshow": {
     "slide_type": "subslide"
    }
   },
   "outputs": [
    {
     "name": "stdout",
     "output_type": "stream",
     "text": [
      "2\n",
      "Numero 5 de la serie de fibonacci: 3"
     ]
    },
    {
     "data": {
      "text/plain": [
       "fib (generic function with 1 method)"
      ]
     },
     "execution_count": 4,
     "metadata": {},
     "output_type": "execute_result"
    },
    {
     "name": "stdout",
     "output_type": "stream",
     "text": [
      "\n",
      "Numero 6 de la serie de fibonacci: 5\n"
     ]
    }
   ],
   "source": [
    "function fib(c::Channel)\n",
    "    # 🐇 -> 🕳️\n",
    "    put!(c, \"Soy una suculenta serie de Fibonacci entrando en el canal de Fibonacci\")\n",
    "    a = 0\n",
    "    b = 1\n",
    "    for n=1:6\n",
    "        a, b = b, a+b\n",
    "        put!(c, b)\n",
    "    end\n",
    "    put!(c, \"Soy una suculenta serie de Fibonacci saliendo del canal de Fibonacci\")\n",
    "    # 🕳️ -> 🐇\n",
    "end"
   ]
  },
  {
   "cell_type": "markdown",
   "metadata": {
    "slideshow": {
     "slide_type": "subslide"
    }
   },
   "source": [
    "**Emoji Standard Process Notation (ESPN):**\n",
    "\n",
    "🅰️ = 0️\n",
    "\n",
    "🅱️ = 1️\n",
    "\n",
    "🔁 1️ ... 6️:\n",
    "\n",
    "    🅰️, 🅱️ = 🅱️,🅰️➕🅱️\n",
    "    🅱️ -> 🐇🕳️\n",
    "\n",
    "To enable Fibonacci channel 🐇🕳️ we use the next lines of code:"
   ]
  },
  {
   "cell_type": "code",
   "execution_count": 5,
   "metadata": {
    "slideshow": {
     "slide_type": "subslide"
    }
   },
   "outputs": [
    {
     "name": "stdout",
     "output_type": "stream",
     "text": [
      "Numero 7 de la serie de fibonacci: 8\n",
      "Llegamos al ultimo calculo de Fibonacci\n",
      "Soy una suculenta serie de Fibonacci entrando en el canal de Fibonacci\n",
      "Empezando el Calculo de Fibonacci\n",
      "Numero 1 de la serie de fibonacci: 0\n",
      "Numero 2 de la serie de fibonacci: 1\n",
      "Numero 3 de la serie de fibonacci: 1\n",
      "Numero 4 de la serie de fibonacci: 2\n",
      "Numero 5 de la serie de fibonacci: 3\n",
      "Numero 6 de la serie de fibonacci: 5\n",
      "Numero 7 de la serie de fibonacci: 8\n",
      "Llegamos al ultimo calculo de Fibonacci\n",
      "1\n"
     ]
    },
    {
     "data": {
      "text/plain": [
       "2"
      ]
     },
     "execution_count": 5,
     "metadata": {},
     "output_type": "execute_result"
    }
   ],
   "source": [
    "chnl = Channel(fib);\n",
    "println(take!(chnl))\n",
    "println(take!(chnl))\n",
    "take!(chnl)"
   ]
  },
  {
   "cell_type": "markdown",
   "metadata": {
    "slideshow": {
     "slide_type": "subslide"
    }
   },
   "source": [
    "Also we can iterate through a channel several times using a **forin** loop 🔁"
   ]
  },
  {
   "cell_type": "code",
   "execution_count": 6,
   "metadata": {
    "slideshow": {
     "slide_type": "subslide"
    }
   },
   "outputs": [
    {
     "name": "stdout",
     "output_type": "stream",
     "text": [
      "Soy una suculenta serie de Fibonacci entrando en el canal de Fibonacci\n",
      "1\n",
      "2\n",
      "3\n",
      "5\n",
      "8\n",
      "13\n",
      "Soy una suculenta serie de Fibonacci saliendo del canal de Fibonacci\n"
     ]
    }
   ],
   "source": [
    "for i in Channel(fib)\n",
    "    println(i)\n",
    "end"
   ]
  },
  {
   "cell_type": "markdown",
   "metadata": {
    "slideshow": {
     "slide_type": "slide"
    }
   },
   "source": [
    "### Multiple Channels 🕳️...🕳️\n",
    "\n",
    "```julia\n",
    "@async \n",
    "```\n",
    "**@async** Macro takes care of creating a function, wrapping it in a Task and the scheduling that task. It will return the task object, but we don't need to store it for anything."
   ]
  },
  {
   "cell_type": "markdown",
   "metadata": {
    "slideshow": {
     "slide_type": "subslide"
    }
   },
   "source": [
    "For our first Example we create 2 channels, the first one called **Jobs** 🏛️ and the second one called **results** 📉 "
   ]
  },
  {
   "cell_type": "code",
   "execution_count": 7,
   "metadata": {
    "slideshow": {
     "slide_type": "subslide"
    }
   },
   "outputs": [],
   "source": [
    "const jobs = Channel{Int}(32); # 🏛️🕳️\n",
    "const results = Channel{Tuple}(32); # 📉🕳️"
   ]
  },
  {
   "cell_type": "markdown",
   "metadata": {
    "slideshow": {
     "slide_type": "subslide"
    }
   },
   "source": [
    "**do_work** function is going to iterate 🔁 through the number of jobs to generate a random number 🔀 that will be considered as time of execution ⏱️, then we will use sleep 💤 function with the last random time (Simulating a process), to finish we put the execution time into the Results channel.\n",
    "\n",
    "**Emoji Standard Process Notation (ESPN):**\n",
    "\n",
    "🔁 🏛️ in 🏛️...🏛️:\n",
    "\n",
    "    🔀⏱️ -> 💤\n",
    "    🔀⏱️ -> 📉🕳️"
   ]
  },
  {
   "cell_type": "code",
   "execution_count": 8,
   "metadata": {
    "slideshow": {
     "slide_type": "subslide"
    }
   },
   "outputs": [],
   "source": [
    "function do_work()\n",
    "           for job_id in jobs\n",
    "               exec_time = rand()\n",
    "               sleep(exec_time)                # simulates elapsed time doing actual work\n",
    "                                               # typically performed externally.\n",
    "               put!(results, (job_id, exec_time))\n",
    "           end\n",
    "       end;"
   ]
  },
  {
   "cell_type": "markdown",
   "metadata": {
    "slideshow": {
     "slide_type": "subslide"
    }
   },
   "source": [
    "**make_jobs** function iterates 🔁 through a 🇳 value and put the iterator value ℹ️ into the channel jobs 🏛️🕳️\n",
    "\n",
    "**Emoji Standard Process Notation (ESPN):**\n",
    "\n",
    "🔁 ℹ️ in 1...🇳:\n",
    "\n",
    "    ℹ️ -> 🏛️🕳️"
   ]
  },
  {
   "cell_type": "code",
   "execution_count": 9,
   "metadata": {
    "slideshow": {
     "slide_type": "subslide"
    }
   },
   "outputs": [],
   "source": [
    "function make_jobs(n)\n",
    "           for i in 1:n\n",
    "               put!(jobs, i)\n",
    "           end\n",
    "       end;"
   ]
  },
  {
   "cell_type": "markdown",
   "metadata": {
    "slideshow": {
     "slide_type": "subslide"
    }
   },
   "source": [
    "Defining Number of coroutines 🇳"
   ]
  },
  {
   "cell_type": "code",
   "execution_count": 10,
   "metadata": {
    "slideshow": {
     "slide_type": "subslide"
    }
   },
   "outputs": [],
   "source": [
    "n = 12; # Number of Coroutines"
   ]
  },
  {
   "cell_type": "markdown",
   "metadata": {
    "slideshow": {
     "slide_type": "subslide"
    }
   },
   "source": [
    "Executing **make_jobs** with 🇳 as parameter\n",
    "\n",
    "**Emoji Standard Process Notation (ESPN):**\n",
    "\n",
    "💡make_jobs(🇳)"
   ]
  },
  {
   "cell_type": "code",
   "execution_count": 11,
   "metadata": {
    "slideshow": {
     "slide_type": "subslide"
    }
   },
   "outputs": [],
   "source": [
    "@async make_jobs(n); # feed the jobs channel with \"n\" jobs"
   ]
  },
  {
   "cell_type": "markdown",
   "metadata": {
    "slideshow": {
     "slide_type": "subslide"
    }
   },
   "source": [
    "Now we want to iterate 🔁 doing 4 asynchronous tasks💡\n",
    "\n",
    "**Emoji Standard Process Notation (ESPN):**\n",
    "\n",
    "🔁 ℹ️ in 1...4:\n",
    "\n",
    "    💡do_work"
   ]
  },
  {
   "cell_type": "code",
   "execution_count": 12,
   "metadata": {
    "slideshow": {
     "slide_type": "subslide"
    }
   },
   "outputs": [],
   "source": [
    "for i in 1:4 # start 4 tasks to process requests in parallel\n",
    "   @async do_work()\n",
    "end\n"
   ]
  },
  {
   "cell_type": "markdown",
   "metadata": {
    "slideshow": {
     "slide_type": "subslide"
    }
   },
   "source": [
    "For the Final execution we are going to use \n",
    "\n",
    "```julia\n",
    "@elapsed\n",
    "```"
   ]
  },
  {
   "cell_type": "markdown",
   "metadata": {
    "slideshow": {
     "slide_type": "subslide"
    }
   },
   "source": [
    "\n",
    "This macro will help us to count time elapsed in the next loop 🔁, in every iteration 🇳 value is going to decremented, and from the results channel 📉🕳️ we are going to take a value 🚮 to print it \n",
    "\n",
    "**Emoji Standard Process Notation (ESPN):**\n",
    "\n",
    "🔁 🇳 > 0:\n",
    "\n",
    "    🇳⬇️\n",
    "    \n",
    "    ℹ️, 🔀⏱️ <- 📉🕳️\n",
    "    \n",
    "    print(ℹ️, 🔀⏱️)"
   ]
  },
  {
   "cell_type": "code",
   "execution_count": 13,
   "metadata": {
    "slideshow": {
     "slide_type": "subslide"
    }
   },
   "outputs": [
    {
     "name": "stdout",
     "output_type": "stream",
     "text": [
      "3 finished in 0.02 seconds\n",
      "2 finished in 0.05 seconds\n",
      "6 finished in 0.33 seconds\n",
      "1 finished in 0.39 seconds\n",
      "4 finished in 0.4 seconds\n",
      "9 finished in 0.26 seconds\n",
      "5 finished in 0.96 seconds\n",
      "10 finished in 0.45 seconds\n",
      "7 finished in 0.84 seconds\n",
      "8 finished in 0.99 seconds\n",
      "11 finished in 0.93 seconds\n",
      "12 finished in 0.96 seconds\n"
     ]
    },
    {
     "data": {
      "text/plain": [
       "2.038185842"
      ]
     },
     "execution_count": 13,
     "metadata": {},
     "output_type": "execute_result"
    }
   ],
   "source": [
    "@elapsed while n > 0 # print out results\n",
    "   global n = n - 1\n",
    "   job_id, exec_time = take!(results)\n",
    "   println(\"$job_id finished in $(round(exec_time; digits=2)) seconds\")\n",
    "end"
   ]
  },
  {
   "cell_type": "markdown",
   "metadata": {
    "slideshow": {
     "slide_type": "slide"
    }
   },
   "source": [
    "## Multi-Threading (Experimental) 🥈\n",
    "\n",
    "In addition to tasks Julia natively supports multi-threading 🧵...🧵\n",
    "\n",
    "## Setup\n",
    "\n",
    "By default, Julia starts up with a single thread 🧵 of execution. This can be verified by using the command:\n"
   ]
  },
  {
   "cell_type": "code",
   "execution_count": 14,
   "metadata": {
    "slideshow": {
     "slide_type": "subslide"
    }
   },
   "outputs": [
    {
     "data": {
      "text/plain": [
       "4"
      ]
     },
     "execution_count": 14,
     "metadata": {},
     "output_type": "execute_result"
    }
   ],
   "source": [
    "Threads.nthreads()"
   ]
  },
  {
   "cell_type": "markdown",
   "metadata": {
    "slideshow": {
     "slide_type": "subslide"
    }
   },
   "source": [
    "We can set 4 threads 🧵 using:\n",
    "\n",
    "> export JULIA_NUM_THREADS=4"
   ]
  },
  {
   "cell_type": "code",
   "execution_count": 15,
   "metadata": {
    "slideshow": {
     "slide_type": "subslide"
    }
   },
   "outputs": [
    {
     "data": {
      "text/plain": [
       "4"
      ]
     },
     "execution_count": 15,
     "metadata": {},
     "output_type": "execute_result"
    }
   ],
   "source": [
    "Threads.nthreads()"
   ]
  },
  {
   "cell_type": "markdown",
   "metadata": {
    "slideshow": {
     "slide_type": "subslide"
    }
   },
   "source": [
    "We set a variable called a 🅰️ as a array 🍱 of ten zeros\n",
    "\n",
    "**Emoji Standard Process Notation (ESPN):**\n",
    "\n",
    "🅰️ = 🍱(10, 0)\n"
   ]
  },
  {
   "cell_type": "code",
   "execution_count": 16,
   "metadata": {
    "slideshow": {
     "slide_type": "subslide"
    }
   },
   "outputs": [
    {
     "data": {
      "text/plain": [
       "10-element Array{Float64,1}:\n",
       " 0.0\n",
       " 0.0\n",
       " 0.0\n",
       " 0.0\n",
       " 0.0\n",
       " 0.0\n",
       " 0.0\n",
       " 0.0\n",
       " 0.0\n",
       " 0.0"
      ]
     },
     "execution_count": 16,
     "metadata": {},
     "output_type": "execute_result"
    }
   ],
   "source": [
    "a = zeros(10)"
   ]
  },
  {
   "cell_type": "markdown",
   "metadata": {
    "slideshow": {
     "slide_type": "subslide"
    }
   },
   "source": [
    "**⛓️ Parallel loops 🔁 using Threads 🧵**\n",
    "\n",
    "We are going to use:\n",
    "\n",
    "```julia\n",
    "Threads.threadid()\n",
    "```\n",
    "\n",
    "to get the actual thread 🧵 id ℹ️\n",
    "\n",
    "**Emoji Standard Process Notation (ESPN):**\n",
    "\n",
    "⛓️🔁 1...10\n",
    "    \n",
    "    🅰️🍱[ℹ️] = Threads.threadid()\n",
    "    \n",
    "print(🅰️🍱)\n",
    "    \n",
    "    "
   ]
  },
  {
   "cell_type": "code",
   "execution_count": 17,
   "metadata": {
    "slideshow": {
     "slide_type": "subslide"
    }
   },
   "outputs": [
    {
     "name": "stdout",
     "output_type": "stream",
     "text": [
      "[1.0, 1.0, 1.0, 2.0, 2.0, 2.0, 3.0, 3.0, 4.0, 4.0]\n"
     ]
    }
   ],
   "source": [
    "Threads.@threads for i = 1:10\n",
    "           a[i] = Threads.threadid()\n",
    "       end\n",
    "\n",
    "println(a)"
   ]
  },
  {
   "cell_type": "markdown",
   "metadata": {
    "slideshow": {
     "slide_type": "subslide"
    }
   },
   "source": [
    "## Atomic Operations ⚛️\n",
    "\n",
    "Julia supports accessing and modifying values atomically, that is, in a thread-safe 🧵 way to avoid race conditions 🏇. A value (which must be of a primitive type) can be wrapped as Threads.Atomic 🧵⚛️ to indicate it must be accessed in this way. Here we can see an example:\n",
    "\n",
    "**Threads.atomic_add! Atomically add id to i**\n",
    "\n",
    "\n",
    "**Emoji Standard Process Notation (ESPN):**\n",
    "\n",
    "ℹ️ = 🧵⚛️(0)\n",
    "\n",
    "ids = 🍱(4, 0)\n",
    "\n",
    "old_is = 🍱(4, 0)\n",
    "\n",
    "⛓️🔁 id in 1...4\n",
    "\n",
    "    old_is🍱[id] = 🧵⚛️➕(i, id)\n",
    "    \n",
    "    ids🍱[id] = id\n",
    "\n",
    "    \n"
   ]
  },
  {
   "cell_type": "code",
   "execution_count": 18,
   "metadata": {
    "slideshow": {
     "slide_type": "subslide"
    }
   },
   "outputs": [],
   "source": [
    "i = Threads.Atomic{Int}(0)\n",
    "ids = zeros(4)\n",
    "old_is = zeros(4)\n",
    "\n",
    "Threads.@threads for id in 1:4\n",
    "           old_is[id] = Threads.atomic_add!(i, id)\n",
    "           ids[id] = id\n",
    "       end"
   ]
  },
  {
   "cell_type": "code",
   "execution_count": 19,
   "metadata": {
    "slideshow": {
     "slide_type": "subslide"
    }
   },
   "outputs": [
    {
     "data": {
      "text/plain": [
       "4-element Array{Float64,1}:\n",
       " 0.0\n",
       " 1.0\n",
       " 3.0\n",
       " 6.0"
      ]
     },
     "execution_count": 19,
     "metadata": {},
     "output_type": "execute_result"
    }
   ],
   "source": [
    "old_is"
   ]
  },
  {
   "cell_type": "code",
   "execution_count": 20,
   "metadata": {
    "slideshow": {
     "slide_type": "subslide"
    }
   },
   "outputs": [
    {
     "data": {
      "text/plain": [
       "4-element Array{Float64,1}:\n",
       " 1.0\n",
       " 2.0\n",
       " 3.0\n",
       " 4.0"
      ]
     },
     "execution_count": 20,
     "metadata": {},
     "output_type": "execute_result"
    }
   ],
   "source": [
    "ids"
   ]
  },
  {
   "cell_type": "markdown",
   "metadata": {
    "slideshow": {
     "slide_type": "subslide"
    }
   },
   "source": [
    "Had we tried to do the addition without the atomic tag 🧵⚛️, we might have gotten the wrong answer due to a race condition 🏇.\n",
    "\n",
    "In the next example we will iterate ⛓️🔁 **1000 times** and adding one into a variable called **acc**.\n",
    "\n",
    "An example of what would happen if we didn't avoid the race\n",
    "\n",
    "\n",
    "\n",
    "\n"
   ]
  },
  {
   "cell_type": "markdown",
   "metadata": {
    "slideshow": {
     "slide_type": "subslide"
    }
   },
   "source": [
    "**Emoji Standard Process Notation (ESPN):**\n",
    "\n",
    "acc = 0\n",
    "\n",
    "⛓️🔁 ℹ️ in 1...1000\n",
    "\n",
    "    acc += 1\n",
    "    \n",
    "print(acc)"
   ]
  },
  {
   "cell_type": "code",
   "execution_count": 21,
   "metadata": {
    "slideshow": {
     "slide_type": "subslide"
    }
   },
   "outputs": [
    {
     "data": {
      "text/plain": [
       "264"
      ]
     },
     "execution_count": 21,
     "metadata": {},
     "output_type": "execute_result"
    }
   ],
   "source": [
    "using Base.Threads\n",
    "\n",
    "\n",
    "acc = Ref(0)\n",
    "\n",
    "# Without atomic Tag\n",
    "@threads for i in 1:1000\n",
    "          acc[] += 1\n",
    "       end\n",
    "\n",
    "acc[]"
   ]
  },
  {
   "cell_type": "markdown",
   "metadata": {
    "slideshow": {
     "slide_type": "subslide"
    }
   },
   "source": [
    "Changing the tag into atomic tag 🧵⚛️ we can avoid race conditions 🏇, to show the difference with the last value, we changed the acc name to acc1.\n",
    "\n",
    "\n",
    "**Emoji Standard Process Notation (ESPN):**\n",
    "\n",
    "acc1 = 🧵⚛️(0)\n",
    "\n",
    "⛓️🔁 ℹ️ in 1...1000\n",
    "\n",
    "    🧵⚛️➕(acc1, 1)\n",
    "    \n",
    "print(acc)\n"
   ]
  },
  {
   "cell_type": "code",
   "execution_count": 22,
   "metadata": {
    "slideshow": {
     "slide_type": "subslide"
    }
   },
   "outputs": [
    {
     "data": {
      "text/plain": [
       "1000"
      ]
     },
     "execution_count": 22,
     "metadata": {},
     "output_type": "execute_result"
    }
   ],
   "source": [
    "# With Atomic Tag\n",
    "\n",
    "acc1 = Atomic{Int}(0)\n",
    "@threads for i in 1:1000\n",
    "         atomic_add!(acc1, 1)\n",
    "       end\n",
    "\n",
    "acc1[]"
   ]
  },
  {
   "cell_type": "markdown",
   "metadata": {
    "slideshow": {
     "slide_type": "subslide"
    }
   },
   "source": [
    "## Side effects 🤕🤢 and mutable function arguments\n",
    "\n",
    "When using multi-threading🧵...🧵 we have to be careful 🧐 when using functions that are not **pure** as we might get a wrong answer. For **instance functions** that have their name ending with ! by convention modify their arguments and thus are not pure. However, there are functions that have side effects and their name does not end with !.\n"
   ]
  },
  {
   "cell_type": "markdown",
   "metadata": {
    "slideshow": {
     "slide_type": "subslide"
    }
   },
   "source": [
    "The next function **f()** has race conditions 🏇 because as we said before is using pure functions and not instace functions.\n",
    "\n",
    "\n",
    "**As ESPN is not a language that supports Regular Expressions we can't traduce it 😭**"
   ]
  },
  {
   "cell_type": "code",
   "execution_count": 23,
   "metadata": {
    "slideshow": {
     "slide_type": "subslide"
    }
   },
   "outputs": [
    {
     "name": "stdout",
     "output_type": "stream",
     "text": [
      "4\n"
     ]
    },
    {
     "data": {
      "text/plain": [
       "1000"
      ]
     },
     "execution_count": 23,
     "metadata": {},
     "output_type": "execute_result"
    }
   ],
   "source": [
    "### This Example doesn't work in the last version of Julia, test it on Julia 1.0.4###\n",
    "println(Threads.nthreads())\n",
    "function f()\n",
    "           s = repeat([\"123\", \"213\", \"231\"], outer=1000)\n",
    "           x = similar(s, Int)\n",
    "           rx = r\"1\"\n",
    "           Threads.@threads for i in 1:3000\n",
    "               x[i] = findfirst(rx, s[i]).start\n",
    "           end\n",
    "           count(v -> v == 1, x)\n",
    "       end\n",
    "f() # the correct result is 1000"
   ]
  },
  {
   "cell_type": "markdown",
   "metadata": {
    "slideshow": {
     "slide_type": "subslide"
    }
   },
   "source": [
    "We modified **rx** which was using a common regular expression between 4 threads, that was the cause of the race condition, now **rx** is a regex for every thread available\n"
   ]
  },
  {
   "cell_type": "code",
   "execution_count": 24,
   "metadata": {
    "slideshow": {
     "slide_type": "subslide"
    }
   },
   "outputs": [
    {
     "data": {
      "text/plain": [
       "1000"
      ]
     },
     "execution_count": 24,
     "metadata": {},
     "output_type": "execute_result"
    }
   ],
   "source": [
    "function f_fix()\n",
    "             s = repeat([\"123\", \"213\", \"231\"], outer=1000)\n",
    "             x = similar(s, Int)\n",
    "             rx = [Regex(\"1\") for i in 1:Threads.nthreads()]\n",
    "             Threads.@threads for i in 1:3000\n",
    "                 x[i] = findfirst(rx[Threads.threadid()], s[i]).start\n",
    "             end\n",
    "             count(v -> v == 1, x)\n",
    "         end\n",
    "f_fix()"
   ]
  }
 ],
 "metadata": {
  "celltoolbar": "Slideshow",
  "kernelspec": {
   "display_name": "Julia (4 threads) 1.4.2",
   "language": "julia",
   "name": "julia-(4-threads)-1.4"
  },
  "language_info": {
   "file_extension": ".jl",
   "mimetype": "application/julia",
   "name": "julia",
   "version": "1.4.2"
  }
 },
 "nbformat": 4,
 "nbformat_minor": 2
}

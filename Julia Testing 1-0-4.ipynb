{
 "cells": [
  {
   "cell_type": "markdown",
   "metadata": {
    "slideshow": {
     "slide_type": "slide"
    }
   },
   "source": [
    "## Side effects and mutable function arguments\n",
    "\n",
    "When using multi-threading we have to be careful when using functions that are not pure as we might get a wrong answer. For instance functions that have their name ending with ! by convention modify their arguments and thus are not pure. However, there are functions that have side effects and their name does not end with !."
   ]
  },
  {
   "cell_type": "code",
   "execution_count": 9,
   "metadata": {
    "slideshow": {
     "slide_type": "slide"
    }
   },
   "outputs": [
    {
     "name": "stdout",
     "output_type": "stream",
     "text": [
      "4\n"
     ]
    },
    {
     "data": {
      "text/plain": [
       "1007"
      ]
     },
     "execution_count": 9,
     "metadata": {},
     "output_type": "execute_result"
    }
   ],
   "source": [
    "println(Threads.nthreads())\n",
    "function f()\n",
    "           s = repeat([\"123\", \"213\", \"231\"], outer=1000)\n",
    "           x = similar(s, Int)\n",
    "           rx = r\"1\"\n",
    "           Threads.@threads for i in 1:3000\n",
    "               x[i] = findfirst(rx, s[i]).start\n",
    "           end\n",
    "           count(v -> v == 1, x)\n",
    "       end\n",
    "\n",
    "f() # the correct result is 1000"
   ]
  },
  {
   "cell_type": "code",
   "execution_count": 10,
   "metadata": {
    "slideshow": {
     "slide_type": "slide"
    }
   },
   "outputs": [
    {
     "data": {
      "text/plain": [
       "1000"
      ]
     },
     "execution_count": 10,
     "metadata": {},
     "output_type": "execute_result"
    }
   ],
   "source": [
    "function f_fix()\n",
    "             s = repeat([\"123\", \"213\", \"231\"], outer=1000)\n",
    "             x = similar(s, Int)\n",
    "             rx = [Regex(\"1\") for i in 1:Threads.nthreads()]\n",
    "             Threads.@threads for i in 1:3000\n",
    "                 x[i] = findfirst(rx[Threads.threadid()], s[i]).start\n",
    "             end\n",
    "             count(v -> v == 1, x)\n",
    "         end\n",
    "f_fix()"
   ]
  },
  {
   "cell_type": "code",
   "execution_count": null,
   "metadata": {},
   "outputs": [],
   "source": []
  }
 ],
 "metadata": {
  "celltoolbar": "Slideshow",
  "kernelspec": {
   "display_name": "Julia 1.0.4",
   "language": "julia",
   "name": "julia-1.0"
  },
  "language_info": {
   "file_extension": ".jl",
   "mimetype": "application/julia",
   "name": "julia",
   "version": "1.0.4"
  }
 },
 "nbformat": 4,
 "nbformat_minor": 2
}
